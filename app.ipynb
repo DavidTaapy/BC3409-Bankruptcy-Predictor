{
 "cells": [
  {
   "cell_type": "code",
   "execution_count": 1,
   "id": "081e2d32",
   "metadata": {},
   "outputs": [],
   "source": [
    "# Import Libraries\n",
    "from flask import Flask\n",
    "from flask import request, render_template\n",
    "from keras.models import load_model"
   ]
  },
  {
   "cell_type": "code",
   "execution_count": 2,
   "id": "5f98c9ee",
   "metadata": {},
   "outputs": [],
   "source": [
    "# Initialise Application\n",
    "app = Flask(__name__)"
   ]
  },
  {
   "cell_type": "code",
   "execution_count": 3,
   "id": "859f97af",
   "metadata": {},
   "outputs": [],
   "source": [
    "# Function To Get Value\n",
    "def getValue(x):\n",
    "    return x[0][0]"
   ]
  },
  {
   "cell_type": "code",
   "execution_count": 4,
   "id": "8400b7c8",
   "metadata": {},
   "outputs": [],
   "source": [
    "# Render The Template\n",
    "@app.route(\"/\", methods = [\"GET\", \"POST\"])\n",
    "def index():\n",
    "    if request.method == \"POST\":\n",
    "        NPTA = float(request.form.get(\"NPTA\"))\n",
    "        TLTA = float(request.form.get(\"TLTA\"))\n",
    "        WCTA = float(request.form.get(\"WCTA\"))\n",
    "        model = load_model(\"bankruptcy\")\n",
    "        prediction = model.predict([[NPTA, TLTA, WCTA]])\n",
    "        value = getValue(prediction)\n",
    "        result = f\"The predicted value for bankruptcy is {value:.2f}!\"\n",
    "        return(render_template(\"index.html\", result = result))\n",
    "    else:\n",
    "        return(render_template(\"index.html\", result = \"Please enter the required inputs!\"))"
   ]
  },
  {
   "cell_type": "code",
   "execution_count": null,
   "id": "dbf3aa12",
   "metadata": {},
   "outputs": [
    {
     "name": "stdout",
     "output_type": "stream",
     "text": [
      " * Serving Flask app \"__main__\" (lazy loading)\n",
      " * Environment: production\n",
      "\u001b[31m   WARNING: This is a development server. Do not use it in a production deployment.\u001b[0m\n",
      "\u001b[2m   Use a production WSGI server instead.\u001b[0m\n",
      " * Debug mode: off\n"
     ]
    },
    {
     "name": "stderr",
     "output_type": "stream",
     "text": [
      " * Running on http://127.0.0.1:5000/ (Press CTRL+C to quit)\n",
      "127.0.0.1 - - [17/Feb/2022 11:16:35] \"GET / HTTP/1.1\" 200 -\n",
      "127.0.0.1 - - [17/Feb/2022 11:16:40] \"POST / HTTP/1.1\" 200 -\n",
      "127.0.0.1 - - [17/Feb/2022 11:18:07] \"POST / HTTP/1.1\" 200 -\n",
      "127.0.0.1 - - [17/Feb/2022 11:18:18] \"POST / HTTP/1.1\" 200 -\n",
      "127.0.0.1 - - [17/Feb/2022 11:18:23] \"POST / HTTP/1.1\" 200 -\n"
     ]
    },
    {
     "name": "stdout",
     "output_type": "stream",
     "text": [
      "WARNING:tensorflow:5 out of the last 5 calls to <function Model.make_predict_function.<locals>.predict_function at 0x00000271401C3C10> triggered tf.function retracing. Tracing is expensive and the excessive number of tracings could be due to (1) creating @tf.function repeatedly in a loop, (2) passing tensors with different shapes, (3) passing Python objects instead of tensors. For (1), please define your @tf.function outside of the loop. For (2), @tf.function has experimental_relax_shapes=True option that relaxes argument shapes that can avoid unnecessary retracing. For (3), please refer to https://www.tensorflow.org/guide/function#controlling_retracing and https://www.tensorflow.org/api_docs/python/tf/function for  more details.\n"
     ]
    },
    {
     "name": "stderr",
     "output_type": "stream",
     "text": [
      "127.0.0.1 - - [17/Feb/2022 11:18:31] \"POST / HTTP/1.1\" 200 -\n"
     ]
    },
    {
     "name": "stdout",
     "output_type": "stream",
     "text": [
      "WARNING:tensorflow:6 out of the last 6 calls to <function Model.make_predict_function.<locals>.predict_function at 0x000002714039C820> triggered tf.function retracing. Tracing is expensive and the excessive number of tracings could be due to (1) creating @tf.function repeatedly in a loop, (2) passing tensors with different shapes, (3) passing Python objects instead of tensors. For (1), please define your @tf.function outside of the loop. For (2), @tf.function has experimental_relax_shapes=True option that relaxes argument shapes that can avoid unnecessary retracing. For (3), please refer to https://www.tensorflow.org/guide/function#controlling_retracing and https://www.tensorflow.org/api_docs/python/tf/function for  more details.\n"
     ]
    },
    {
     "name": "stderr",
     "output_type": "stream",
     "text": [
      "127.0.0.1 - - [17/Feb/2022 11:18:37] \"POST / HTTP/1.1\" 200 -\n",
      "127.0.0.1 - - [17/Feb/2022 11:18:43] \"POST / HTTP/1.1\" 200 -\n",
      "127.0.0.1 - - [17/Feb/2022 11:18:48] \"POST / HTTP/1.1\" 200 -\n",
      "127.0.0.1 - - [17/Feb/2022 11:18:51] \"POST / HTTP/1.1\" 200 -\n",
      "127.0.0.1 - - [17/Feb/2022 11:18:57] \"POST / HTTP/1.1\" 200 -\n",
      "127.0.0.1 - - [17/Feb/2022 11:33:21] \"GET / HTTP/1.1\" 200 -\n",
      "127.0.0.1 - - [17/Feb/2022 11:33:29] \"POST / HTTP/1.1\" 200 -\n"
     ]
    }
   ],
   "source": [
    "# Run The Application\n",
    "if __name__ == \"__main__\":\n",
    "    app.run()"
   ]
  }
 ],
 "metadata": {
  "kernelspec": {
   "display_name": "Python 3 (ipykernel)",
   "language": "python",
   "name": "python3"
  },
  "language_info": {
   "codemirror_mode": {
    "name": "ipython",
    "version": 3
   },
   "file_extension": ".py",
   "mimetype": "text/x-python",
   "name": "python",
   "nbconvert_exporter": "python",
   "pygments_lexer": "ipython3",
   "version": "3.9.7"
  }
 },
 "nbformat": 4,
 "nbformat_minor": 5
}
